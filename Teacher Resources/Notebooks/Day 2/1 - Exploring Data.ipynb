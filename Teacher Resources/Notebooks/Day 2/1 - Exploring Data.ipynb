{
 "cells": [
  {
   "cell_type": "code",
   "execution_count": null,
   "metadata": {},
   "outputs": [],
   "source": [
    "%matplotlib inline\n",
    "\n",
    "import os\n",
    "\n",
    "import mne"
   ]
  },
  {
   "cell_type": "markdown",
   "metadata": {},
   "source": [
    "## Exploring data with MNE\n",
    "\n",
    "The purpose of this exercise is to get you more comfortable with the MNE API, as well as Python programming more generally.\n",
    "\n",
    "Like yesterday, we will look at the MNE sample data."
   ]
  },
  {
   "cell_type": "code",
   "execution_count": null,
   "metadata": {},
   "outputs": [],
   "source": [
    "sample_data_folder = mne.datasets.sample.data_path()\n",
    "sample_data_folder"
   ]
  },
  {
   "cell_type": "markdown",
   "metadata": {},
   "source": [
    "Open the folder and explore its contents."
   ]
  },
  {
   "cell_type": "code",
   "execution_count": null,
   "metadata": {},
   "outputs": [],
   "source": [
    "# Windows\n",
    "!explorer {sample_data_folder}"
   ]
  },
  {
   "cell_type": "code",
   "execution_count": null,
   "metadata": {},
   "outputs": [],
   "source": [
    "# Mac\n",
    "!open {sample_data_folder}"
   ]
  },
  {
   "cell_type": "markdown",
   "metadata": {},
   "source": [
    "Load the data as a `Raw` object."
   ]
  },
  {
   "cell_type": "code",
   "execution_count": null,
   "metadata": {},
   "outputs": [],
   "source": [
    "raw = mne.io.read_raw_fif(\n",
    "    os.path.join(sample_data_folder, \"MEG\", \"sample\", \"sample_audvis_raw.fif\")\n",
    ")"
   ]
  },
  {
   "cell_type": "markdown",
   "metadata": {},
   "source": [
    "For the following tasks, use the MNE API as a resource for finding out how to use the following methods: https://mne.tools/stable/generated/mne.io.Raw.html"
   ]
  },
  {
   "cell_type": "markdown",
   "metadata": {},
   "source": [
    "### Part 1 - Transforming and slicing the data\n",
    "\n",
    "**N.B.** You may want to create a copy of the data before modifying it."
   ]
  },
  {
   "cell_type": "markdown",
   "metadata": {},
   "source": [
    "`Raw.crop()`: take only the data between 0 and 180 seconds."
   ]
  },
  {
   "cell_type": "code",
   "execution_count": null,
   "metadata": {},
   "outputs": [],
   "source": [
    "## CODE GOES HERE\n",
    "raw.copy().crop(tmin=0, tmax=180)"
   ]
  },
  {
   "cell_type": "markdown",
   "metadata": {},
   "source": [
    "`Raw.pick()`: select only the EEG channels."
   ]
  },
  {
   "cell_type": "code",
   "execution_count": null,
   "metadata": {},
   "outputs": [],
   "source": [
    "## CODE GOES HERE\n",
    "raw.copy().pick(picks=\"eeg\")"
   ]
  },
  {
   "cell_type": "markdown",
   "metadata": {},
   "source": [
    "`Raw.pick()`: select only the MEG channels."
   ]
  },
  {
   "cell_type": "code",
   "execution_count": null,
   "metadata": {},
   "outputs": [],
   "source": [
    "## CODE GOES HERE\n",
    "raw.copy().pick(picks=[\"grad\", \"mag\"])"
   ]
  },
  {
   "cell_type": "markdown",
   "metadata": {},
   "source": [
    "`Raw.pick()`: select the MEG and EOG channels."
   ]
  },
  {
   "cell_type": "code",
   "execution_count": null,
   "metadata": {},
   "outputs": [],
   "source": [
    "## CODE GOES HERE\n",
    "raw.copy().pick(picks=[\"grad\", \"mag\", \"eog\"])"
   ]
  },
  {
   "cell_type": "markdown",
   "metadata": {},
   "source": [
    "`Raw.rename_channels()`: rename the channel \"EOG 061\" to \"blink_detector\""
   ]
  },
  {
   "cell_type": "code",
   "execution_count": null,
   "metadata": {},
   "outputs": [],
   "source": [
    "## CODE GOES HERE\n",
    "raw.copy().rename_channels(mapping={\"EOG 061\": \"blink_detector\"})"
   ]
  },
  {
   "cell_type": "markdown",
   "metadata": {},
   "source": [
    "`Raw.time_as_index()`: find the index of the sample in the data which occurs closest to 1 second."
   ]
  },
  {
   "cell_type": "code",
   "execution_count": null,
   "metadata": {},
   "outputs": [],
   "source": [
    "## CODE GOES HERE\n",
    "raw.time_as_index(times=1)"
   ]
  },
  {
   "cell_type": "markdown",
   "metadata": {},
   "source": [
    "`Raw.time_as_index()`: find the index of the samples in the data which occur closest to 0, 3, and 6 seconds."
   ]
  },
  {
   "cell_type": "code",
   "execution_count": null,
   "metadata": {},
   "outputs": [],
   "source": [
    "## CODE GOES HERE\n",
    "raw.time_as_index(times=[0, 3, 6])"
   ]
  },
  {
   "cell_type": "markdown",
   "metadata": {},
   "source": [
    "**Exercises - slicing the data**\n",
    "\n",
    "There are various ways to extract data from `Raw` objects, as shown in this overview: https://mne.tools/stable/auto_tutorials/raw/10_raw_overview.html#summary-of-ways-to-extract-data-from-raw-objects\n",
    "\n",
    "Let's try some of them out!"
   ]
  },
  {
   "cell_type": "markdown",
   "metadata": {},
   "source": [
    "**Exercise:** Get the first 100 samples of data from the channel \"MEG 0113\"."
   ]
  },
  {
   "cell_type": "code",
   "execution_count": null,
   "metadata": {},
   "outputs": [],
   "source": [
    "## CODE GOES HERE\n",
    "data = raw.get_data(picks=\"MEG 0113\")[:, :100]\n",
    "print(f\"Shape of data: {data.shape}\")"
   ]
  },
  {
   "cell_type": "markdown",
   "metadata": {},
   "source": [
    "**Exercise:** Get all data from the first 5 channels."
   ]
  },
  {
   "cell_type": "code",
   "execution_count": null,
   "metadata": {},
   "outputs": [],
   "source": [
    "## CODE GOES HERE\n",
    "data = raw.get_data()[:5]\n",
    "print(f\"Shape of data: {data.shape}\")"
   ]
  },
  {
   "cell_type": "markdown",
   "metadata": {},
   "source": [
    "**Exercise:** Get all data from the channels \"EEG 030\" and \"EOG 061\"."
   ]
  },
  {
   "cell_type": "code",
   "execution_count": null,
   "metadata": {},
   "outputs": [],
   "source": [
    "## CODE GOES HERE\n",
    "data = raw.get_data(picks=[\"EEG 030\", \"EEG 031\"])\n",
    "print(f\"Shape of data: {data.shape}\")"
   ]
  },
  {
   "cell_type": "markdown",
   "metadata": {},
   "source": [
    "**Exercise:** Get all the data as an array, as well as the times of each sample."
   ]
  },
  {
   "cell_type": "code",
   "execution_count": null,
   "metadata": {},
   "outputs": [],
   "source": [
    "## CODE GOES HERE\n",
    "data, times = raw[:]\n",
    "data, times = raw.get_data(return_times=True)\n",
    "print(f\"Shape of data: {data.shape}\")\n",
    "print(f\"Shape of times: {times.shape}\")"
   ]
  },
  {
   "cell_type": "markdown",
   "metadata": {},
   "source": [
    "### Part 2 - Plotting the data"
   ]
  },
  {
   "cell_type": "markdown",
   "metadata": {},
   "source": [
    "`Raw.plot()`: plot the data of the EEG channels."
   ]
  },
  {
   "cell_type": "code",
   "execution_count": null,
   "metadata": {},
   "outputs": [],
   "source": [
    "## CODE GOES HERE\n",
    "raw.copy().pick(picks=\"eeg\").plot();"
   ]
  },
  {
   "cell_type": "markdown",
   "metadata": {},
   "source": [
    "`Raw.plot_sensors()`: plot the locations of the EEG channels as a topomap."
   ]
  },
  {
   "cell_type": "code",
   "execution_count": null,
   "metadata": {},
   "outputs": [],
   "source": [
    "## CODE GOES HERE\n",
    "raw.plot_sensors(kind=\"topomap\", ch_type=\"eeg\", show_names=True);"
   ]
  },
  {
   "cell_type": "markdown",
   "metadata": {},
   "source": [
    "`Raw.plot_sensors()`: plot the locations of the EEG channels in 3D."
   ]
  },
  {
   "cell_type": "code",
   "execution_count": null,
   "metadata": {},
   "outputs": [],
   "source": [
    "# Makes the plot interactive so that you can change the orientation by dragging\n",
    "%matplotlib widget"
   ]
  },
  {
   "cell_type": "code",
   "execution_count": null,
   "metadata": {},
   "outputs": [],
   "source": [
    "## CODE GOES HERE\n",
    "raw.plot_sensors(kind=\"3d\", ch_type=\"eeg\", show_names=True);"
   ]
  },
  {
   "cell_type": "code",
   "execution_count": null,
   "metadata": {},
   "outputs": [],
   "source": [
    "%matplotlib inline"
   ]
  },
  {
   "cell_type": "markdown",
   "metadata": {},
   "source": [
    "This final section touches on a fundamental part of electrophysiological signal analysis: power spectral densities (PSDs), showing the information content of signals as a function of frequency.\n",
    "\n",
    "Spectral analysis will be covered in more detail in the next notebook, but we present a preliminary look at the tools offered in MNE here."
   ]
  },
  {
   "cell_type": "markdown",
   "metadata": {},
   "source": [
    "`Raw.compute_psd().plot()`: compute and plot the power spectral densities of the EEG channels."
   ]
  },
  {
   "cell_type": "code",
   "execution_count": null,
   "metadata": {},
   "outputs": [],
   "source": [
    "raw.compute_psd(picks=\"eeg\").plot();"
   ]
  },
  {
   "cell_type": "markdown",
   "metadata": {},
   "source": [
    "`Raw.compute_psd().plot()`: compute and plot the average power spectral densities of the EEG channels."
   ]
  },
  {
   "cell_type": "code",
   "execution_count": null,
   "metadata": {},
   "outputs": [],
   "source": [
    "raw.compute_psd(picks=\"eeg\").plot(average=True);"
   ]
  },
  {
   "cell_type": "markdown",
   "metadata": {},
   "source": [
    "`Raw.compute_psd().plot_topomap()`: compute and plot the power spectral densities of the EEG channels as a topomap."
   ]
  },
  {
   "cell_type": "code",
   "execution_count": null,
   "metadata": {},
   "outputs": [],
   "source": [
    "raw.compute_psd(picks=\"eeg\").plot_topomap();"
   ]
  }
 ],
 "metadata": {
  "kernelspec": {
   "display_name": "mne_course",
   "language": "python",
   "name": "python3"
  },
  "language_info": {
   "codemirror_mode": {
    "name": "ipython",
    "version": 3
   },
   "file_extension": ".py",
   "mimetype": "text/x-python",
   "name": "python",
   "nbconvert_exporter": "python",
   "pygments_lexer": "ipython3",
   "version": "3.11.6"
  }
 },
 "nbformat": 4,
 "nbformat_minor": 2
}
