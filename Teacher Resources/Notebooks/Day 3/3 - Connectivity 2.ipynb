{
 "cells": [
  {
   "cell_type": "code",
   "execution_count": null,
   "metadata": {},
   "outputs": [],
   "source": [
    "%matplotlib inline\n",
    "\n",
    "import mne_connectivity\n",
    "import numpy as np\n",
    "\n",
    "from _helper_functions import simulate_connectivity, plot_connectivity"
   ]
  },
  {
   "cell_type": "markdown",
   "metadata": {},
   "source": [
    "## Multivariate frequency-resolved connectivity - the `mne-connectivity` package continued\n",
    "\n",
    "The connectivity methods covered so far have all been bivariate methods, i.e. connectivity from one signal to another signal.\n",
    "\n",
    "In contrast, multivariate connectivity methods can be used to compute connectivity between whole groups of signals simultaneously, bringing both practical and methodological benefits."
   ]
  },
  {
   "cell_type": "markdown",
   "metadata": {},
   "source": [
    "### Part 1 - Simulating connectivity\n",
    "\n",
    "As before, we will use the custom helper function `simulate_connectivity()` to generate signals which we can explore multivariate connectivity computations on."
   ]
  },
  {
   "cell_type": "markdown",
   "metadata": {},
   "source": [
    "**Exercises - Simulating connectivity**\n",
    "\n",
    "**Exercise:** Simulate 2 interacting channels in the frequency ranges: 5-10 Hz; 15-20 Hz; and 25-30 Hz.\n",
    "\n",
    "Do this in 3 separate function calls."
   ]
  },
  {
   "cell_type": "code",
   "execution_count": null,
   "metadata": {},
   "outputs": [],
   "source": [
    "##  CODE GOES HERE\n",
    "epochs_5_10 = simulate_connectivity(n_seeds=1, n_targets=1, freq_band=(5, 10))\n",
    "epochs_15_20 = simulate_connectivity(n_seeds=1, n_targets=1, freq_band=(15, 20))\n",
    "epochs_25_30 = simulate_connectivity(n_seeds=1, n_targets=1, freq_band=(25, 30))"
   ]
  },
  {
   "cell_type": "markdown",
   "metadata": {},
   "source": [
    "**Exercise:** Combine the 3 sets of `Epochs` into a single `Epochs` object using the [`add_channels()`](https://mne.tools/stable/generated/mne.Epochs.html#mne.Epochs.add_channels) method."
   ]
  },
  {
   "cell_type": "code",
   "execution_count": null,
   "metadata": {},
   "outputs": [],
   "source": [
    "## CODE GOES HERE\n",
    "epochs = epochs_5_10.copy().add_channels([epochs_15_20, epochs_25_30])"
   ]
  },
  {
   "cell_type": "markdown",
   "metadata": {},
   "source": [
    "**Exercise:** Verify that activity is present in the appropriate frequency ranges by computing the power spectra of the data."
   ]
  },
  {
   "cell_type": "code",
   "execution_count": null,
   "metadata": {},
   "outputs": [],
   "source": [
    "## CODE GOES HERE\n",
    "epochs.compute_psd().plot();"
   ]
  },
  {
   "cell_type": "markdown",
   "metadata": {},
   "source": [
    "### Part 2 - A recap of bivariate connectivity\n",
    "\n",
    "Again, we will use [`mne_connectivity.spectral_connectivity_epochs()`](https://mne.tools/mne-connectivity/stable/generated/mne_connectivity.spectral_connectivity_epochs.html#mne_connectivity.spectral_connectivity_epochs) to compute connectivity between the simulated signals.\n",
    "\n",
    "We first generate the results from a bivariate connectivity method to use as a comparison for the multivariate methods."
   ]
  },
  {
   "cell_type": "markdown",
   "metadata": {},
   "source": [
    "**Exercises - Bivariate connectivity**\n",
    "\n",
    "**Exercise:** Compute connectivity using the imaginary part of coherency (`imcoh` method).\n",
    "\n",
    "Specify the indices such that connectivity is only computed between the 3 sets of interacting channels."
   ]
  },
  {
   "cell_type": "code",
   "execution_count": null,
   "metadata": {},
   "outputs": [],
   "source": [
    "## CODE GOES HERE\n",
    "bivariate_connectivity = mne_connectivity.spectral_connectivity_epochs(\n",
    "    data=epochs, method=\"imcoh\", indices=([0, 2, 4], [1, 3, 5])\n",
    ")"
   ]
  },
  {
   "cell_type": "markdown",
   "metadata": {},
   "source": [
    "**Exercise:** Plot the connectivity results for each connection to verify the interaction is present.\n",
    "\n",
    "*Hint:* Results for the imaginary part of coherency can be positive and negative. For our purposes, you should take the absolute values of the results using NumPy's [`abs()`](https://numpy.org/doc/stable/reference/generated/numpy.absolute.html) function."
   ]
  },
  {
   "cell_type": "code",
   "execution_count": null,
   "metadata": {},
   "outputs": [],
   "source": [
    "## CODE GOES HERE\n",
    "for con_idx in range(len(bivariate_connectivity.indices[0])):\n",
    "    plot_connectivity(\n",
    "        np.abs(bivariate_connectivity.get_data()[con_idx]), bivariate_connectivity.freqs\n",
    "    )"
   ]
  },
  {
   "cell_type": "markdown",
   "metadata": {},
   "source": [
    "**Exercise:** Summarise the bivariate connectivity results by averaging across the 3 connections.\n",
    "\n",
    "*Hint:* Use NumPy's [`mean()`](https://numpy.org/doc/stable/reference/generated/numpy.mean.html) function, and don't forget to take the absolute values first!"
   ]
  },
  {
   "cell_type": "code",
   "execution_count": null,
   "metadata": {},
   "outputs": [],
   "source": [
    "## CODE GOES HERE\n",
    "average_connectivity = np.mean(np.abs(bivariate_connectivity.get_data()), axis=0)"
   ]
  },
  {
   "cell_type": "markdown",
   "metadata": {},
   "source": [
    "**Exercise:** Plot the average bivariate connectivity results using the custom `plot_connectivity()` helper function as before.\n",
    "\n",
    "What do you notice about the scale of the values? What is the reason for this?"
   ]
  },
  {
   "cell_type": "code",
   "execution_count": null,
   "metadata": {},
   "outputs": [],
   "source": [
    "## CODE GOES HERE\n",
    "plot_connectivity(average_connectivity, bivariate_connectivity.freqs)"
   ]
  },
  {
   "cell_type": "markdown",
   "metadata": {},
   "source": [
    "### Part 3 - Multivariate connectivity\n",
    "\n",
    "We will now examine connectivity for some multivariate methods, but before we do so, we need to consider the `indices` parameter again."
   ]
  },
  {
   "cell_type": "markdown",
   "metadata": {},
   "source": [
    "#### Indices for bivariate connectivity\n",
    "\n",
    "`indices` has the form `(seeds, targets)`, where the length of `seeds` and `targets` corresponds to the number of connections.\n",
    "\n",
    "For bivariate connectivity, `seeds` and `targets` are array-likes of integers, e.g.:\n",
    "- `seeds=[0, 2, 4]`\n",
    "- `targets=[1, 3, 5]`"
   ]
  },
  {
   "cell_type": "markdown",
   "metadata": {},
   "source": [
    "#### Indices for multivariate connectivity\n",
    "\n",
    "For multivariate connectivity on the other hand, since we are computing connectivity between multiple channels, we need a way to distinguish between the channels belonging to each connection.\n",
    "\n",
    "Accordingly, we nest the entries for each connection as array-likes within `seeds` and `targets`.\n",
    "\n",
    "E.g. computing a single multivariate connection between channels 0, 2, and 4 to channels 1, 3, and 5 would require:\n",
    "- `seeds=[[0, 2, 4]]`\n",
    "- `targets=[[1, 3, 5]]`.\n",
    "\n",
    "Note how the length of `seeds` and `targets` still corresponds to the number of connections (in this case, 1).\n",
    "\n",
    "<br>\n",
    "\n",
    "E.g. we could compute two multivariate connections with `seeds=[[0], [2, 4]]` and `targets=[[1, 3], [5]]`.\n",
    "\n",
    "Again, the lengths of `seeds` and `targets` correspond to the number of connections (2), but see how we specify the channels for each connections as a separate array-like.\n",
    "\n",
    "You may also notice that the number of channels can differ for each connection, making these multivariate methods very flexible.\n",
    "\n",
    "<br>\n",
    "\n",
    "More information on the `indices` parameter for multivariate connectivity can be found here: https://mne.tools/mne-connectivity/dev/auto_examples/handling_ragged_arrays.html#sphx-glr-auto-examples-handling-ragged-arrays-py"
   ]
  },
  {
   "cell_type": "markdown",
   "metadata": {},
   "source": [
    "The image below summarises how indices for bivariate and multivariate methods are handled in MNE-Connectivity:\n",
    "\n",
    "<img src=\"figures/connectivity_indices_cheat_sheet.png\" alt=\"Cheat sheet for bivariate and multivariate connectivity indices in MNE-Connectivity\" width=\"60%\" height=\"60%\">"
   ]
  },
  {
   "cell_type": "markdown",
   "metadata": {},
   "source": [
    "#### Multivariate connectivity methods\n",
    "\n",
    "Earlier we saw that MNE-Connectivity supports multiple bivariate connectivity methods.\n",
    "\n",
    "Several multivariate methods are also available:\n",
    "- maximised imaginary part of coherency - [`mic`](https://doi.org/10.1016/j.neuroimage.2011.11.084)\n",
    "- multivariate interaction measure - [`mim`](https://doi.org/10.1016/j.neuroimage.2011.11.084)\n",
    "- state-space Granger causality -[`gc`](https://doi.org/10.1103/PhysRevE.91.040101)\n",
    "- state-space Granger causality on time-reversed signals -[`gc_tr`](https://doi.org/10.1109/TSP.2016.2531628)\n",
    "\n",
    "Again, references and relevant equations are given in the [documentation](https://mne.tools/mne-connectivity/stable/generated/mne_connectivity.spectral_connectivity_epochs.html#mne_connectivity.spectral_connectivity_epochs).\n",
    "\n",
    "As for the various bivariate methods, the different multivariate methods enable an appropriate analysis of signals in various contexts.\n",
    "\n",
    "What is relevant to understand for now is that the maximised imaginary part of coherency (`mic` method) is a multivariate form of the imaginary part of coherency."
   ]
  },
  {
   "cell_type": "markdown",
   "metadata": {},
   "source": [
    "**Exercises - multivariate connectivity**\n",
    "\n",
    "**Exercise:** Compute connectivity using the maximised imaginary part of coherency (`mic` method).\n",
    "\n",
    "Do this for each interacting pair of channels separately (i.e. 3 connections in total)."
   ]
  },
  {
   "cell_type": "code",
   "execution_count": null,
   "metadata": {},
   "outputs": [],
   "source": [
    "## CODE GOES HERE\n",
    "multivariate_connectivity_separate = mne_connectivity.spectral_connectivity_epochs(\n",
    "    data=epochs, method=\"mic\", indices=([[0], [2], [4]], [[1], [3], [5]])\n",
    ")"
   ]
  },
  {
   "cell_type": "markdown",
   "metadata": {},
   "source": [
    "**Exercise:** Plot the results for each connection.\n",
    "\n",
    "How do the pair-wise results for the multivariate method compare to the pair-wise results for the bivariate method above?\n",
    "\n",
    "*Hint:* We want to take the absolute values of the results."
   ]
  },
  {
   "cell_type": "code",
   "execution_count": null,
   "metadata": {},
   "outputs": [],
   "source": [
    "## CODE GOES HERE\n",
    "for con_idx in range(len(multivariate_connectivity_separate.indices[0])):\n",
    "    plot_connectivity(\n",
    "        np.abs(multivariate_connectivity_separate.get_data()[con_idx]),\n",
    "        multivariate_connectivity_separate.freqs,\n",
    "    )"
   ]
  },
  {
   "cell_type": "markdown",
   "metadata": {},
   "source": [
    "**Exercise:** Compute connectivity between the same seed and target channels as before but in a single connection."
   ]
  },
  {
   "cell_type": "code",
   "execution_count": null,
   "metadata": {},
   "outputs": [],
   "source": [
    "## CODE GOES HERE\n",
    "multivariate_connectivity = mne_connectivity.spectral_connectivity_epochs(\n",
    "    data=epochs, method=\"mic\", indices=([[0, 2, 4]], [[1, 3, 5]])\n",
    ")"
   ]
  },
  {
   "cell_type": "markdown",
   "metadata": {},
   "source": [
    "**Exercise:** Plot the results for this single connection.\n",
    "\n",
    "How do the results for this single connection of the multivariate method compare to the single connection of the bivariate method which we obtained by averaging?"
   ]
  },
  {
   "cell_type": "code",
   "execution_count": null,
   "metadata": {},
   "outputs": [],
   "source": [
    "## CODE GOES HERE\n",
    "plot_connectivity(np.abs(multivariate_connectivity.get_data()[0]), multivariate_connectivity.freqs)"
   ]
  },
  {
   "cell_type": "markdown",
   "metadata": {},
   "source": [
    "### Part 4 - Directed connectivity\n",
    "\n",
    "So far, the focus has been on coherency-based measures of connectivity.\n",
    "\n",
    "Coherency-based measures can be very powerful, but they tell us nothing about the direction of the interaction between signals (i.e. they are undirected measures of connectivity).\n",
    "\n",
    "In contrast, directed measures of connectivity tell us how information is flowing between seeds and targets. Granger causality is one such directed connectivity method."
   ]
  },
  {
   "cell_type": "markdown",
   "metadata": {},
   "source": [
    "#### Granger causality\n",
    "\n",
    "When we created the signals, we simulated the information flow from the seeds to the targets.\n",
    "\n",
    "As such, we expect Granger causality to be high from `seeds -> targets`, but low from `targets -> seeds`."
   ]
  },
  {
   "cell_type": "markdown",
   "metadata": {},
   "source": [
    "**Exercises - Directed connectivity**\n",
    "\n",
    "**Exercise:** Compute Granger causality (`gc` method) from the seeds to the targets as a single connection and plot the results."
   ]
  },
  {
   "cell_type": "code",
   "execution_count": null,
   "metadata": {},
   "outputs": [],
   "source": [
    "## CODE GOES HERE\n",
    "gc_seeds_targets = mne_connectivity.spectral_connectivity_epochs(\n",
    "    data=epochs, method=\"gc\", indices=([[0, 2, 4]], [[1, 3, 5]])\n",
    ")\n",
    "plot_connectivity(gc_seeds_targets.get_data()[0], gc_seeds_targets.freqs)"
   ]
  },
  {
   "cell_type": "markdown",
   "metadata": {},
   "source": [
    "**Exercise:** Compute Granger causality from the targets to the seeds as a single connection and plot the results.\n",
    "\n",
    "Are the values of the results lower for `target -> seeds` than `seeds -> targets`?"
   ]
  },
  {
   "cell_type": "code",
   "execution_count": null,
   "metadata": {},
   "outputs": [],
   "source": [
    "## CODE GOES HERE\n",
    "gc_targets_seeds = mne_connectivity.spectral_connectivity_epochs(\n",
    "    data=epochs, method=\"gc\", indices=([[1, 3, 5]], [[0, 2, 4]])\n",
    ")\n",
    "plot_connectivity(gc_targets_seeds.get_data()[0], gc_targets_seeds.freqs)"
   ]
  },
  {
   "cell_type": "markdown",
   "metadata": {},
   "source": [
    "**Exercise:** Compute connectivity for both directions (i.e. `seeds -> targets` and `targets -> seeds`) in the same call to `spectral_connectivity_epochs()`.\n",
    "\n",
    "Plot the results to verify they match those when computed separately."
   ]
  },
  {
   "cell_type": "code",
   "execution_count": null,
   "metadata": {},
   "outputs": [],
   "source": [
    "## CODE GOES HERE\n",
    "gc = mne_connectivity.spectral_connectivity_epochs(\n",
    "    data=epochs, method=\"gc\", indices=([[0, 2, 4], [1, 3, 5]], [[1, 3, 5], [0, 2, 4]])\n",
    ")\n",
    "\n",
    "for con_idx in range(2):\n",
    "    plot_connectivity(gc.get_data()[con_idx], gc.freqs)"
   ]
  },
  {
   "cell_type": "markdown",
   "metadata": {},
   "source": [
    "#### Investigating bidirectional communication\n",
    "\n",
    "In neuroscience, we often study systems where information does not only flow in one direction, but reciprocally between brain regions.\n",
    "\n",
    "Accordingly, examining the **net** directionality of communication can be very useful in identifying the 'drivers' and 'recipients'.\n",
    "\n",
    "Net Granger causality can be easily computed by subtracting the results of each direction from one another:<br>\n",
    "`seeds -> targets` - `targets -> seeds`."
   ]
  },
  {
   "cell_type": "markdown",
   "metadata": {},
   "source": [
    "**Exercise:** Compute the net Granger scores from the results computed above, and plot the results.\n",
    "\n",
    "What does this tell us about which set of signals are the 'drivers' and which are the 'recipients'?"
   ]
  },
  {
   "cell_type": "code",
   "execution_count": null,
   "metadata": {},
   "outputs": [],
   "source": [
    "## CODE GOES HERE\n",
    "plot_connectivity(gc.get_data()[0] - gc.get_data()[1], gc_seeds_targets.freqs)"
   ]
  },
  {
   "cell_type": "markdown",
   "metadata": {},
   "source": [
    "**Exercise:** Check what happens if we flip the seeds and targets when computing the net Granger scores.\n",
    "\n",
    "Does this tell us the same thing?"
   ]
  },
  {
   "cell_type": "code",
   "execution_count": null,
   "metadata": {},
   "outputs": [],
   "source": [
    "## CODE GOES HERE\n",
    "plot_connectivity(gc.get_data()[1] - gc.get_data()[0], gc_seeds_targets.freqs)"
   ]
  },
  {
   "cell_type": "markdown",
   "metadata": {},
   "source": [
    "As you can see, MNE-Connectivity also supports multivariate methods for investigating connectivity in directed and undirected forms."
   ]
  },
  {
   "cell_type": "markdown",
   "metadata": {},
   "source": [
    "## Conclusion\n",
    "\n",
    "The examples above have been kept simple to demonstrate the basic principles of multivariate connectivity in MNE.\n",
    "\n",
    "The extensive benefits of multivariate connectivity methods are realised fully in scenarios involving a large number of channels with complex interactions, scenarios where data-driven approaches for extracting the relevant components of connectivity are extremely powerful.\n",
    "\n",
    "The multivariate methods are also supported by the alternative [`spectral_connectivity_time()`](https://mne.tools/mne-connectivity/stable/generated/mne_connectivity.spectral_connectivity_time.html#mne_connectivity.spectral_connectivity_time) function."
   ]
  },
  {
   "cell_type": "markdown",
   "metadata": {},
   "source": [
    "## Additional resources\n",
    "\n",
    "MNE tutorial on multivariate coherency: https://mne.tools/mne-connectivity/dev/auto_examples/mic_mim.html\n",
    "\n",
    "MNE tutorial on multivariate Granger causality: https://mne.tools/mne-connectivity/dev/auto_examples/granger_causality.html"
   ]
  }
 ],
 "metadata": {
  "kernelspec": {
   "display_name": "mne_course",
   "language": "python",
   "name": "python3"
  },
  "language_info": {
   "codemirror_mode": {
    "name": "ipython",
    "version": 3
   },
   "file_extension": ".py",
   "mimetype": "text/x-python",
   "name": "python",
   "nbconvert_exporter": "python",
   "pygments_lexer": "ipython3",
   "version": "3.11.7"
  }
 },
 "nbformat": 4,
 "nbformat_minor": 2
}
