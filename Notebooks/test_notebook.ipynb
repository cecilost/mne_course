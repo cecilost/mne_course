{
 "cells": [
  {
   "cell_type": "code",
   "execution_count": null,
   "metadata": {},
   "outputs": [],
   "source": [
    "# Test MNE installation\n",
    "# Should see information about the system, the MNE version, and the installed dependencies\n",
    "\n",
    "import mne\n",
    "import mne_connectivity\n",
    "\n",
    "mne.sys_info()"
   ]
  },
  {
   "cell_type": "code",
   "execution_count": null,
   "metadata": {},
   "outputs": [],
   "source": [
    "# Test interactive plotting\n",
    "# Should open a window showing a sphere which you can rotate\n",
    "\n",
    "import pyvista\n",
    "from pyvistaqt import BackgroundPlotter\n",
    "\n",
    "sphere = pyvista.Sphere()\n",
    "plotter = BackgroundPlotter()\n",
    "plotter.add_mesh(sphere)"
   ]
  }
 ],
 "metadata": {
  "kernelspec": {
   "display_name": "mne_course",
   "language": "python",
   "name": "python3"
  },
  "language_info": {
   "codemirror_mode": {
    "name": "ipython",
    "version": 3
   },
   "file_extension": ".py",
   "mimetype": "text/x-python",
   "name": "python",
   "nbconvert_exporter": "python",
   "pygments_lexer": "ipython3",
   "version": "3.11.7"
  }
 },
 "nbformat": 4,
 "nbformat_minor": 2
}
